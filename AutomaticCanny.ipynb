{
 "cells": [
  {
   "cell_type": "code",
   "execution_count": 1,
   "metadata": {},
   "outputs": [],
   "source": [
    "import numpy as np\n",
    "import cv2"
   ]
  },
  {
   "cell_type": "code",
   "execution_count": 2,
   "metadata": {},
   "outputs": [],
   "source": [
    "sigma=0.33"
   ]
  },
  {
   "cell_type": "code",
   "execution_count": 3,
   "metadata": {},
   "outputs": [
    {
     "name": "stdout",
     "output_type": "stream",
     "text": [
      "Original Dimensions :  (525, 1020)\n",
      "Resized Dimensions :  (262, 510)\n"
     ]
    }
   ],
   "source": [
    "# Load an color image in grayscale\n",
    "img = cv2.imread('ont_plate.jpg',0)\n",
    "\n",
    "print('Original Dimensions : ',img.shape)\n",
    "\n",
    "scale_percent = 50 # percent of original size\n",
    "\n",
    "width = int(img.shape[1] * scale_percent / 100) \n",
    "height = int(img.shape[0] * scale_percent / 100) \n",
    "dim = (width, height) \n",
    "\n",
    "# resize image\n",
    "resized = cv2.resize(img, dim, interpolation = cv2.INTER_AREA) \n",
    " \n",
    "print('Resized Dimensions : ',resized.shape) \n",
    "\n",
    "# manual edging\n",
    "edges = cv2.Canny(resized,10,20)\n",
    "edges2 = cv2.Canny(resized,625,650)"
   ]
  },
  {
   "cell_type": "code",
   "execution_count": 4,
   "metadata": {},
   "outputs": [],
   "source": [
    "v = np.median(img)\n",
    "\n",
    "# apply automatic Canny edge detection using the computed median\n",
    "lower = int(max(0, (1.0 - sigma) * v))\n",
    "upper = int(min(255, (1.0 + sigma) * v))\n",
    "auto_edged = cv2.Canny(resized, lower, upper)\n",
    "\n",
    "cv2.imshow(\"Original\", resized)\n",
    "cv2.imshow(\"Edges\", np.hstack([edges, edges2, auto_edged]))\n",
    "\n",
    "cv2.waitKey(0)\n",
    "cv2.destroyAllWindows()"
   ]
  },
  {
   "cell_type": "code",
   "execution_count": null,
   "metadata": {},
   "outputs": [],
   "source": []
  },
  {
   "cell_type": "code",
   "execution_count": null,
   "metadata": {},
   "outputs": [],
   "source": []
  }
 ],
 "metadata": {
  "kernelspec": {
   "display_name": "Python 3",
   "language": "python",
   "name": "python3"
  },
  "language_info": {
   "codemirror_mode": {
    "name": "ipython",
    "version": 3
   },
   "file_extension": ".py",
   "mimetype": "text/x-python",
   "name": "python",
   "nbconvert_exporter": "python",
   "pygments_lexer": "ipython3",
   "version": "3.7.4"
  }
 },
 "nbformat": 4,
 "nbformat_minor": 2
}
